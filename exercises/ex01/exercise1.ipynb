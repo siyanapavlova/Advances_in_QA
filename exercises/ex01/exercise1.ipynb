{
 "cells": [
  {
   "cell_type": "code",
   "execution_count": 1,
   "metadata": {},
   "outputs": [],
   "source": [
    "import torch"
   ]
  },
  {
   "cell_type": "code",
   "execution_count": 6,
   "metadata": {},
   "outputs": [
    {
     "data": {
      "text/plain": [
       "'1.3.0'"
      ]
     },
     "execution_count": 6,
     "metadata": {},
     "output_type": "execute_result"
    }
   ],
   "source": [
    "torch.__version__"
   ]
  },
  {
   "cell_type": "markdown",
   "metadata": {},
   "source": [
    "Input:  A 2D tensor of size 3x10, that contains random integers in therange [0,99]"
   ]
  },
  {
   "cell_type": "code",
   "execution_count": 44,
   "metadata": {},
   "outputs": [
    {
     "data": {
      "text/plain": [
       "tensor([[85,  1, 62, 59, 76, 34, 69, 72, 78, 69],\n",
       "        [36, 60, 89, 68, 54, 46, 39,  8,  1, 95],\n",
       "        [35, 93, 45, 74, 17, 94, 69, 60, 33, 37]])"
      ]
     },
     "execution_count": 44,
     "metadata": {},
     "output_type": "execute_result"
    }
   ],
   "source": [
    "my_input = torch.randint(0,100,(3,10))\n",
    "my_input"
   ]
  },
  {
   "cell_type": "markdown",
   "metadata": {},
   "source": [
    "Inputembeddings:  A 3D tensor that contains random float values ofsize 3x10x20"
   ]
  },
  {
   "cell_type": "code",
   "execution_count": 42,
   "metadata": {},
   "outputs": [
    {
     "data": {
      "text/plain": [
       "tensor([[[-0.3117, -0.1817,  0.6998, -0.3112, -1.3889,  0.3545, -0.5465,\n",
       "          -0.6597, -0.4568,  0.1219,  0.0302,  0.2615,  0.4841, -1.3054,\n",
       "          -1.5677, -0.3988, -1.5334, -1.2977, -2.1492, -1.1823],\n",
       "         [-0.6397, -0.2966,  1.4126,  0.4218,  1.4281, -0.6092, -0.2476,\n",
       "          -0.5829,  0.3307, -1.7473, -0.2635, -0.4425,  0.4102,  0.5573,\n",
       "           0.1610, -0.5105,  1.3517,  0.4150, -0.0855, -0.4956],\n",
       "         [-0.0319,  1.9651,  0.9148,  0.6354,  0.3323,  0.0216,  0.6575,\n",
       "          -0.0435, -0.3293, -0.7240,  0.6402,  0.5331, -0.4781, -0.6983,\n",
       "          -0.4217, -0.0140, -0.9150, -0.5700,  1.0325, -0.0511],\n",
       "         [ 0.9623,  0.3251,  0.1224,  2.2061,  0.3710, -0.2295,  0.3238,\n",
       "           1.5964,  0.4070, -0.2977,  0.4808, -1.0648, -0.4462, -0.1746,\n",
       "           0.7315,  0.6617, -0.7365, -1.4647, -1.1183, -2.3931],\n",
       "         [-1.0494, -1.2023,  1.9146, -1.4302,  1.4475,  0.2225,  0.7362,\n",
       "           1.5685, -1.0635,  2.0726,  1.0386, -0.5941,  0.9425,  0.3255,\n",
       "           0.8105, -0.3722,  0.5486,  0.4918, -1.5778,  0.3038],\n",
       "         [-0.9192, -1.0410,  0.1483,  0.0137,  0.1950, -0.6261,  0.0028,\n",
       "          -0.5643,  0.8192, -0.5313, -1.2272, -1.4111, -0.5403, -0.0328,\n",
       "           0.0254,  0.3887, -0.7863, -0.1713, -0.4830, -0.5833],\n",
       "         [-0.5909, -0.1161, -1.0454, -0.2945, -0.0196, -0.1784, -1.9822,\n",
       "          -0.4244,  1.3805, -1.3509, -2.1303, -0.2878,  0.5732, -1.8868,\n",
       "           0.7745, -0.0992, -1.6602, -0.5307, -0.2783,  0.0555],\n",
       "         [-0.0843, -0.8428, -0.9631, -0.0906, -0.4202,  0.9072,  0.2925,\n",
       "          -1.2381,  0.3949, -0.5767,  0.3950, -2.2625, -0.3026,  0.3955,\n",
       "          -0.8107,  2.4590, -2.2092, -1.6834, -1.2148,  1.1534],\n",
       "         [-0.0917,  0.5276,  0.2303, -1.5673,  1.8205, -1.0954,  0.5219,\n",
       "           0.7632, -1.4530,  1.3554,  0.1407, -1.4168, -1.2796, -0.4045,\n",
       "          -0.9835,  0.6852,  0.1104, -1.0594,  0.1866, -0.8326],\n",
       "         [ 0.1987,  0.7240, -0.6649, -1.2433,  0.4083, -1.5306, -0.1531,\n",
       "          -1.8605, -1.1334,  1.0826,  0.1366,  0.0036, -1.0035, -0.1966,\n",
       "          -0.8283,  0.3428, -0.0108, -1.0692, -0.1093,  0.6845]]])"
      ]
     },
     "execution_count": 42,
     "metadata": {},
     "output_type": "execute_result"
    }
   ],
   "source": [
    "inputembeddings = torch.randn(3,10,20)\n",
    "inputembeddings[:1]"
   ]
  },
  {
   "cell_type": "markdown",
   "metadata": {},
   "source": [
    "input1hot:  Create a 1-hot vector tensor from ”Input” tensor; thiswould be of size 3x10x100\n",
    "\n",
    "We have 3 sentences, 10 words each. Vocabulary size is 100. \n",
    "\n",
    "=> class count is 100 (each word in the vocabulary is one class)\n",
    "\n",
    "`input1hot = torch.eye(class_count)[input_tensor, :]`"
   ]
  },
  {
   "cell_type": "code",
   "execution_count": 18,
   "metadata": {},
   "outputs": [],
   "source": [
    "input1hot = torch.eye(100)[my_input,:]\n",
    "# input1hot\n",
    "# input1hot[0]"
   ]
  },
  {
   "cell_type": "markdown",
   "metadata": {},
   "source": [
    "Change the shape of a tensor: T=torch.rand(3,4,5) to T_changed of size (12x5)\n"
   ]
  },
  {
   "cell_type": "code",
   "execution_count": 20,
   "metadata": {},
   "outputs": [
    {
     "data": {
      "text/plain": [
       "tensor([[[0.2802, 0.1092, 0.3007, 0.3440, 0.1079],\n",
       "         [0.1693, 0.6959, 0.8709, 0.8511, 0.8845],\n",
       "         [0.3884, 0.5370, 0.2518, 0.5845, 0.3406],\n",
       "         [0.3556, 0.8804, 0.6337, 0.2685, 0.4167]],\n",
       "\n",
       "        [[0.4144, 0.0738, 0.0207, 0.1880, 0.0858],\n",
       "         [0.2792, 0.3351, 0.5531, 0.7231, 0.8246],\n",
       "         [0.0068, 0.5357, 0.2224, 0.7188, 0.3783],\n",
       "         [0.6597, 0.7907, 0.9459, 0.6324, 0.5326]],\n",
       "\n",
       "        [[0.4448, 0.5895, 0.5237, 0.7999, 0.7261],\n",
       "         [0.5330, 0.7934, 0.0593, 0.7538, 0.9823],\n",
       "         [0.8882, 0.3721, 0.2482, 0.4794, 0.9387],\n",
       "         [0.1857, 0.0242, 0.1253, 0.4624, 0.4543]]])"
      ]
     },
     "execution_count": 20,
     "metadata": {},
     "output_type": "execute_result"
    }
   ],
   "source": [
    "T = torch.rand(3,4,5)\n",
    "T"
   ]
  },
  {
   "cell_type": "code",
   "execution_count": 23,
   "metadata": {},
   "outputs": [
    {
     "data": {
      "text/plain": [
       "tensor([[0.2802, 0.1092, 0.3007, 0.3440, 0.1079],\n",
       "        [0.1693, 0.6959, 0.8709, 0.8511, 0.8845],\n",
       "        [0.3884, 0.5370, 0.2518, 0.5845, 0.3406],\n",
       "        [0.3556, 0.8804, 0.6337, 0.2685, 0.4167],\n",
       "        [0.4144, 0.0738, 0.0207, 0.1880, 0.0858],\n",
       "        [0.2792, 0.3351, 0.5531, 0.7231, 0.8246],\n",
       "        [0.0068, 0.5357, 0.2224, 0.7188, 0.3783],\n",
       "        [0.6597, 0.7907, 0.9459, 0.6324, 0.5326],\n",
       "        [0.4448, 0.5895, 0.5237, 0.7999, 0.7261],\n",
       "        [0.5330, 0.7934, 0.0593, 0.7538, 0.9823],\n",
       "        [0.8882, 0.3721, 0.2482, 0.4794, 0.9387],\n",
       "        [0.1857, 0.0242, 0.1253, 0.4624, 0.4543]])"
      ]
     },
     "execution_count": 23,
     "metadata": {},
     "output_type": "execute_result"
    }
   ],
   "source": [
    "T_changed = T.reshape(12,5)\n",
    "T_changed"
   ]
  },
  {
   "cell_type": "markdown",
   "metadata": {},
   "source": [
    "Matrix multiply two 2-D tensors: of sizes 3x5 and 5x6"
   ]
  },
  {
   "cell_type": "code",
   "execution_count": 24,
   "metadata": {},
   "outputs": [
    {
     "data": {
      "text/plain": [
       "tensor([[137,  96,  44,  93, 103,  81],\n",
       "        [ 36,  74,  27,  82,  23,  29],\n",
       "        [114, 144,  69,  86,  71,  69]])"
      ]
     },
     "execution_count": 24,
     "metadata": {},
     "output_type": "execute_result"
    }
   ],
   "source": [
    "m1 = torch.randint(0,10,(3,5))\n",
    "m2 = torch.randint(0,10,(5,6))\n",
    "torch.matmul(m1,m2)"
   ]
  },
  {
   "cell_type": "code",
   "execution_count": 25,
   "metadata": {},
   "outputs": [
    {
     "data": {
      "text/plain": [
       "tensor([[137,  96,  44,  93, 103,  81],\n",
       "        [ 36,  74,  27,  82,  23,  29],\n",
       "        [114, 144,  69,  86,  71,  69]])"
      ]
     },
     "execution_count": 25,
     "metadata": {},
     "output_type": "execute_result"
    }
   ],
   "source": [
    "m1@m2"
   ]
  },
  {
   "cell_type": "code",
   "execution_count": 26,
   "metadata": {},
   "outputs": [
    {
     "data": {
      "text/plain": [
       "tensor([[137,  96,  44,  93, 103,  81],\n",
       "        [ 36,  74,  27,  82,  23,  29],\n",
       "        [114, 144,  69,  86,  71,  69]])"
      ]
     },
     "execution_count": 26,
     "metadata": {},
     "output_type": "execute_result"
    }
   ],
   "source": [
    "torch.mm(m1,m2)"
   ]
  },
  {
   "cell_type": "markdown",
   "metadata": {},
   "source": [
    "Difference between `mm` and `matmul`: `mm` does not support broadcasting. More info: https://pytorch.org/docs/stable/notes/broadcasting.html#broadcasting-semantics"
   ]
  },
  {
   "cell_type": "markdown",
   "metadata": {},
   "source": [
    "Matrix multiply two 4-D tensors on the last 2 dimensions: of size 2x2x3x5 and 2x2x5x6"
   ]
  },
  {
   "cell_type": "code",
   "execution_count": 31,
   "metadata": {},
   "outputs": [
    {
     "data": {
      "text/plain": [
       "tensor([[[[129, 103,  97, 104,  88, 112],\n",
       "          [ 97,  75,  78,  91,  65,  92],\n",
       "          [177, 118, 129, 135,  98, 123]],\n",
       "\n",
       "         [[161,  63,  72, 119, 103, 168],\n",
       "          [ 98,  28,  53,  76,  86, 122],\n",
       "          [123,  35,  64,  91,  98, 137]]],\n",
       "\n",
       "\n",
       "        [[[ 44,  40,  60,  55,  22,  31],\n",
       "          [ 88,  64,  87,  93,  51,  69],\n",
       "          [ 67,  54,  88,  91,  58,  59]],\n",
       "\n",
       "         [[132, 142, 127,  77, 105, 120],\n",
       "          [ 81,  71,  70,  41,  56,  62],\n",
       "          [150, 148, 140, 114, 130, 133]]]])"
      ]
     },
     "execution_count": 31,
     "metadata": {},
     "output_type": "execute_result"
    }
   ],
   "source": [
    "m3 = torch.randint(0,10,(2,2,3,5))\n",
    "m4 = torch.randint(0,10,(2,2,5,6))\n",
    "torch.matmul(m3,m4) # torch.mm() would not work, but m3@m4 works"
   ]
  },
  {
   "cell_type": "code",
   "execution_count": 34,
   "metadata": {},
   "outputs": [
    {
     "data": {
      "text/plain": [
       "tensor([[[[4, 3, 7, 3, 2],\n",
       "          [5, 3, 4, 3, 0],\n",
       "          [3, 1, 9, 8, 4]],\n",
       "\n",
       "         [[8, 1, 5, 8, 9],\n",
       "          [2, 9, 0, 0, 6],\n",
       "          [4, 9, 0, 1, 7]]],\n",
       "\n",
       "\n",
       "        [[[2, 0, 5, 0, 2],\n",
       "          [4, 0, 5, 3, 3],\n",
       "          [1, 1, 7, 3, 3]],\n",
       "\n",
       "         [[4, 3, 9, 5, 7],\n",
       "          [3, 4, 7, 1, 1],\n",
       "          [9, 9, 9, 2, 4]]]])"
      ]
     },
     "execution_count": 34,
     "metadata": {},
     "output_type": "execute_result"
    }
   ],
   "source": [
    "m3"
   ]
  },
  {
   "cell_type": "markdown",
   "metadata": {},
   "source": [
    "Transpose 2 dimensions of tensors"
   ]
  },
  {
   "cell_type": "code",
   "execution_count": 33,
   "metadata": {},
   "outputs": [
    {
     "data": {
      "text/plain": [
       "tensor([[[[4, 8],\n",
       "          [5, 2],\n",
       "          [3, 4]],\n",
       "\n",
       "         [[3, 1],\n",
       "          [3, 9],\n",
       "          [1, 9]],\n",
       "\n",
       "         [[7, 5],\n",
       "          [4, 0],\n",
       "          [9, 0]],\n",
       "\n",
       "         [[3, 8],\n",
       "          [3, 0],\n",
       "          [8, 1]],\n",
       "\n",
       "         [[2, 9],\n",
       "          [0, 6],\n",
       "          [4, 7]]],\n",
       "\n",
       "\n",
       "        [[[2, 4],\n",
       "          [4, 3],\n",
       "          [1, 9]],\n",
       "\n",
       "         [[0, 3],\n",
       "          [0, 4],\n",
       "          [1, 9]],\n",
       "\n",
       "         [[5, 9],\n",
       "          [5, 7],\n",
       "          [7, 9]],\n",
       "\n",
       "         [[0, 5],\n",
       "          [3, 1],\n",
       "          [3, 2]],\n",
       "\n",
       "         [[2, 7],\n",
       "          [3, 1],\n",
       "          [3, 4]]]])"
      ]
     },
     "execution_count": 33,
     "metadata": {},
     "output_type": "execute_result"
    }
   ],
   "source": [
    "torch.transpose(m3, 1, 3)"
   ]
  },
  {
   "cell_type": "code",
   "execution_count": 36,
   "metadata": {},
   "outputs": [
    {
     "data": {
      "text/plain": [
       "tensor([[[5, 0, 6, 3],\n",
       "         [5, 8, 3, 3],\n",
       "         [5, 5, 7, 0]],\n",
       "\n",
       "        [[1, 6, 3, 9],\n",
       "         [4, 8, 8, 9],\n",
       "         [9, 1, 8, 0]]])"
      ]
     },
     "execution_count": 36,
     "metadata": {},
     "output_type": "execute_result"
    }
   ],
   "source": [
    "m5 = torch.randint(0,10,(2,3,4))\n",
    "m5"
   ]
  },
  {
   "cell_type": "code",
   "execution_count": 38,
   "metadata": {},
   "outputs": [
    {
     "data": {
      "text/plain": [
       "tensor([[[5, 5, 5],\n",
       "         [0, 8, 5],\n",
       "         [6, 3, 7],\n",
       "         [3, 3, 0]],\n",
       "\n",
       "        [[1, 4, 9],\n",
       "         [6, 8, 1],\n",
       "         [3, 8, 8],\n",
       "         [9, 9, 0]]])"
      ]
     },
     "execution_count": 38,
     "metadata": {},
     "output_type": "execute_result"
    }
   ],
   "source": [
    "torch.transpose(m5, 1, 2)"
   ]
  },
  {
   "cell_type": "markdown",
   "metadata": {},
   "source": [
    "### City hop problem"
   ]
  },
  {
   "cell_type": "markdown",
   "metadata": {},
   "source": [
    "Find the number of cities that you can go in 3 hops"
   ]
  },
  {
   "cell_type": "code",
   "execution_count": 41,
   "metadata": {},
   "outputs": [],
   "source": [
    "adjacency_matrix = torch.Tensor([[0,0,1,0,1,0],\n",
    "                                 [0,0,1,1,1,0],\n",
    "                                 [1,1,0,1,1,0],\n",
    "                                 [0,1,1,0,1,1],\n",
    "                                 [1,1,1,1,0,0],\n",
    "                                 [0,0,0,1,0,0]])"
   ]
  },
  {
   "cell_type": "code",
   "execution_count": null,
   "metadata": {},
   "outputs": [],
   "source": []
  }
 ],
 "metadata": {
  "kernelspec": {
   "display_name": "Python 3",
   "language": "python",
   "name": "python3"
  },
  "language_info": {
   "codemirror_mode": {
    "name": "ipython",
    "version": 3
   },
   "file_extension": ".py",
   "mimetype": "text/x-python",
   "name": "python",
   "nbconvert_exporter": "python",
   "pygments_lexer": "ipython3",
   "version": "3.6.8"
  }
 },
 "nbformat": 4,
 "nbformat_minor": 4
}
