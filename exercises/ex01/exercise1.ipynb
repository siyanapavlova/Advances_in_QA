{
 "cells": [
  {
   "cell_type": "code",
   "execution_count": 1,
   "metadata": {},
   "outputs": [],
   "source": [
    "import torch"
   ]
  },
  {
   "cell_type": "code",
   "execution_count": 2,
   "metadata": {},
   "outputs": [
    {
     "data": {
      "text/plain": [
       "'1.3.0'"
      ]
     },
     "execution_count": 2,
     "metadata": {},
     "output_type": "execute_result"
    }
   ],
   "source": [
    "torch.__version__"
   ]
  },
  {
   "cell_type": "markdown",
   "metadata": {},
   "source": [
    "Input:  A 2D tensor of size 3x10, that contains random integers in therange [0,99]"
   ]
  },
  {
   "cell_type": "code",
   "execution_count": 3,
   "metadata": {},
   "outputs": [
    {
     "data": {
      "text/plain": [
       "tensor([[65, 84,  5, 83, 44, 79,  5, 45, 16,  0],\n",
       "        [28, 45, 19, 99, 48, 53, 31, 23, 49,  9],\n",
       "        [69, 62, 78,  1,  2, 34,  0, 92, 54, 86]])"
      ]
     },
     "execution_count": 3,
     "metadata": {},
     "output_type": "execute_result"
    }
   ],
   "source": [
    "my_input = torch.randint(0,100,(3,10))\n",
    "my_input"
   ]
  },
  {
   "cell_type": "markdown",
   "metadata": {},
   "source": [
    "Inputembeddings:  A 3D tensor that contains random float values ofsize 3x10x20"
   ]
  },
  {
   "cell_type": "code",
   "execution_count": 5,
   "metadata": {},
   "outputs": [],
   "source": [
    "inputembeddings = torch.randn(3,10,20)\n",
    "#inputembeddings[:1]"
   ]
  },
  {
   "cell_type": "markdown",
   "metadata": {},
   "source": [
    "input1hot:  Create a 1-hot vector tensor from ”Input” tensor; this would be of size 3x10x100\n",
    "\n",
    "We have 3 sentences, 10 words each. Vocabulary size is 100. \n",
    "\n",
    "=> class count is 100 (each word in the vocabulary is one class)\n",
    "\n",
    "`input1hot = torch.eye(class_count)[input_tensor, :]`"
   ]
  },
  {
   "cell_type": "code",
   "execution_count": 6,
   "metadata": {},
   "outputs": [],
   "source": [
    "input1hot = torch.eye(100)[my_input,:]\n",
    "# input1hot\n",
    "# input1hot[0]"
   ]
  },
  {
   "cell_type": "markdown",
   "metadata": {},
   "source": [
    "Change the shape of a tensor: T=torch.rand(3,4,5) to T_changed of size (12x5)\n"
   ]
  },
  {
   "cell_type": "code",
   "execution_count": 7,
   "metadata": {},
   "outputs": [
    {
     "data": {
      "text/plain": [
       "tensor([[[0.6402, 0.6079, 0.8559, 0.9899, 0.1133],\n",
       "         [0.7838, 0.9328, 0.1422, 0.5809, 0.6702],\n",
       "         [0.7345, 0.0750, 0.4144, 0.6704, 0.1514],\n",
       "         [0.4052, 0.8533, 0.9094, 0.4372, 0.7960]],\n",
       "\n",
       "        [[0.3095, 0.8514, 0.5035, 0.3453, 0.1030],\n",
       "         [0.5723, 0.2385, 0.0040, 0.7973, 0.0646],\n",
       "         [0.4091, 0.9444, 0.4822, 0.7767, 0.5291],\n",
       "         [0.2507, 0.5114, 0.4741, 0.4386, 0.4640]],\n",
       "\n",
       "        [[0.8668, 0.1613, 0.1211, 0.8154, 0.0641],\n",
       "         [0.3213, 0.3829, 0.2390, 0.1646, 0.3332],\n",
       "         [0.6857, 0.3095, 0.2883, 0.9370, 0.7136],\n",
       "         [0.0830, 0.5468, 0.0630, 0.3813, 0.6963]]])"
      ]
     },
     "execution_count": 7,
     "metadata": {},
     "output_type": "execute_result"
    }
   ],
   "source": [
    "T = torch.rand(3,4,5)\n",
    "T"
   ]
  },
  {
   "cell_type": "code",
   "execution_count": 8,
   "metadata": {},
   "outputs": [
    {
     "data": {
      "text/plain": [
       "tensor([[0.6402, 0.6079, 0.8559, 0.9899, 0.1133],\n",
       "        [0.7838, 0.9328, 0.1422, 0.5809, 0.6702],\n",
       "        [0.7345, 0.0750, 0.4144, 0.6704, 0.1514],\n",
       "        [0.4052, 0.8533, 0.9094, 0.4372, 0.7960],\n",
       "        [0.3095, 0.8514, 0.5035, 0.3453, 0.1030],\n",
       "        [0.5723, 0.2385, 0.0040, 0.7973, 0.0646],\n",
       "        [0.4091, 0.9444, 0.4822, 0.7767, 0.5291],\n",
       "        [0.2507, 0.5114, 0.4741, 0.4386, 0.4640],\n",
       "        [0.8668, 0.1613, 0.1211, 0.8154, 0.0641],\n",
       "        [0.3213, 0.3829, 0.2390, 0.1646, 0.3332],\n",
       "        [0.6857, 0.3095, 0.2883, 0.9370, 0.7136],\n",
       "        [0.0830, 0.5468, 0.0630, 0.3813, 0.6963]])"
      ]
     },
     "execution_count": 8,
     "metadata": {},
     "output_type": "execute_result"
    }
   ],
   "source": [
    "T_changed = T.reshape(12,5)\n",
    "T_changed"
   ]
  },
  {
   "cell_type": "markdown",
   "metadata": {},
   "source": [
    "Matrix multiply two 2-D tensors: of sizes 3x5 and 5x6"
   ]
  },
  {
   "cell_type": "code",
   "execution_count": 9,
   "metadata": {},
   "outputs": [
    {
     "data": {
      "text/plain": [
       "tensor([[ 40,  44,   6,  28,  34,  16],\n",
       "        [159, 199,  78, 156, 205, 127],\n",
       "        [ 56,  69,  32,  61,  78,  51]])"
      ]
     },
     "execution_count": 9,
     "metadata": {},
     "output_type": "execute_result"
    }
   ],
   "source": [
    "m1 = torch.randint(0,10,(3,5))\n",
    "m2 = torch.randint(0,10,(5,6))\n",
    "torch.matmul(m1,m2)"
   ]
  },
  {
   "cell_type": "code",
   "execution_count": 12,
   "metadata": {},
   "outputs": [
    {
     "data": {
      "text/plain": [
       "tensor([[ 40,  44,   6,  28,  34,  16],\n",
       "        [159, 199,  78, 156, 205, 127],\n",
       "        [ 56,  69,  32,  61,  78,  51]])"
      ]
     },
     "execution_count": 12,
     "metadata": {},
     "output_type": "execute_result"
    }
   ],
   "source": [
    "m1@m2"
   ]
  },
  {
   "cell_type": "code",
   "execution_count": 14,
   "metadata": {},
   "outputs": [
    {
     "data": {
      "text/plain": [
       "tensor([[ 40,  44,   6,  28,  34,  16],\n",
       "        [159, 199,  78, 156, 205, 127],\n",
       "        [ 56,  69,  32,  61,  78,  51]])"
      ]
     },
     "execution_count": 14,
     "metadata": {},
     "output_type": "execute_result"
    }
   ],
   "source": [
    "torch.mm(m1,m2)"
   ]
  },
  {
   "cell_type": "markdown",
   "metadata": {},
   "source": [
    "Difference between `mm` and `matmul`: `mm` does not support broadcasting. More info: https://pytorch.org/docs/stable/notes/broadcasting.html#broadcasting-semantics"
   ]
  },
  {
   "cell_type": "markdown",
   "metadata": {},
   "source": [
    "Matrix multiply two 4-D tensors on the last 2 dimensions: of size 2x2x3x5 and 2x2x5x6"
   ]
  },
  {
   "cell_type": "code",
   "execution_count": 16,
   "metadata": {},
   "outputs": [
    {
     "data": {
      "text/plain": [
       "tensor([[[[ 83, 152, 135, 130,  94, 166],\n",
       "          [106, 149, 129, 132,  94, 156],\n",
       "          [123,  55,  46,  59,  92,  43]],\n",
       "\n",
       "         [[ 44,  42,  33,  56,  95,  62],\n",
       "          [ 75,  79, 102, 106, 117, 115],\n",
       "          [112,  49,  82,  55,  87,  96]]],\n",
       "\n",
       "\n",
       "        [[[127, 127,  78, 109,  99, 122],\n",
       "          [ 84,  68,  34, 126, 125, 102],\n",
       "          [117,  74,  50, 112, 111, 105]],\n",
       "\n",
       "         [[126, 174, 163, 116, 103, 152],\n",
       "          [ 58,  99,  53,  64,  39,  43],\n",
       "          [ 81, 100, 109,  95,  73,  58]]]])"
      ]
     },
     "execution_count": 16,
     "metadata": {},
     "output_type": "execute_result"
    }
   ],
   "source": [
    "m3 = torch.randint(0,10,(2,2,3,5))\n",
    "m4 = torch.randint(0,10,(2,2,5,6))\n",
    "torch.matmul(m3,m4) # torch.mm() would not work, but m3@m4 works"
   ]
  },
  {
   "cell_type": "code",
   "execution_count": 17,
   "metadata": {},
   "outputs": [
    {
     "data": {
      "text/plain": [
       "tensor([[[[8, 7, 1, 9, 3],\n",
       "          [8, 7, 4, 7, 2],\n",
       "          [4, 1, 9, 0, 4]],\n",
       "\n",
       "         [[3, 5, 0, 6, 0],\n",
       "          [8, 0, 3, 7, 4],\n",
       "          [3, 0, 8, 1, 7]]],\n",
       "\n",
       "\n",
       "        [[[1, 3, 4, 5, 7],\n",
       "          [9, 2, 7, 0, 3],\n",
       "          [7, 0, 5, 1, 8]],\n",
       "\n",
       "         [[8, 7, 8, 5, 8],\n",
       "          [4, 5, 1, 5, 0],\n",
       "          [9, 4, 0, 5, 6]]]])"
      ]
     },
     "execution_count": 17,
     "metadata": {},
     "output_type": "execute_result"
    }
   ],
   "source": [
    "m3"
   ]
  },
  {
   "cell_type": "markdown",
   "metadata": {},
   "source": [
    "Transpose 2 dimensions of tensors"
   ]
  },
  {
   "cell_type": "code",
   "execution_count": 18,
   "metadata": {},
   "outputs": [
    {
     "data": {
      "text/plain": [
       "tensor([[[[8, 3],\n",
       "          [8, 8],\n",
       "          [4, 3]],\n",
       "\n",
       "         [[7, 5],\n",
       "          [7, 0],\n",
       "          [1, 0]],\n",
       "\n",
       "         [[1, 0],\n",
       "          [4, 3],\n",
       "          [9, 8]],\n",
       "\n",
       "         [[9, 6],\n",
       "          [7, 7],\n",
       "          [0, 1]],\n",
       "\n",
       "         [[3, 0],\n",
       "          [2, 4],\n",
       "          [4, 7]]],\n",
       "\n",
       "\n",
       "        [[[1, 8],\n",
       "          [9, 4],\n",
       "          [7, 9]],\n",
       "\n",
       "         [[3, 7],\n",
       "          [2, 5],\n",
       "          [0, 4]],\n",
       "\n",
       "         [[4, 8],\n",
       "          [7, 1],\n",
       "          [5, 0]],\n",
       "\n",
       "         [[5, 5],\n",
       "          [0, 5],\n",
       "          [1, 5]],\n",
       "\n",
       "         [[7, 8],\n",
       "          [3, 0],\n",
       "          [8, 6]]]])"
      ]
     },
     "execution_count": 18,
     "metadata": {},
     "output_type": "execute_result"
    }
   ],
   "source": [
    "torch.transpose(m3, 1, 3)"
   ]
  },
  {
   "cell_type": "code",
   "execution_count": 19,
   "metadata": {},
   "outputs": [
    {
     "data": {
      "text/plain": [
       "tensor([[[9, 2, 3, 1],\n",
       "         [9, 8, 5, 5],\n",
       "         [4, 0, 7, 2]],\n",
       "\n",
       "        [[5, 5, 0, 8],\n",
       "         [7, 1, 4, 2],\n",
       "         [0, 5, 3, 5]]])"
      ]
     },
     "execution_count": 19,
     "metadata": {},
     "output_type": "execute_result"
    }
   ],
   "source": [
    "m5 = torch.randint(0,10,(2,3,4))\n",
    "m5"
   ]
  },
  {
   "cell_type": "code",
   "execution_count": 20,
   "metadata": {},
   "outputs": [
    {
     "data": {
      "text/plain": [
       "tensor([[[9, 9, 4],\n",
       "         [2, 8, 0],\n",
       "         [3, 5, 7],\n",
       "         [1, 5, 2]],\n",
       "\n",
       "        [[5, 7, 0],\n",
       "         [5, 1, 5],\n",
       "         [0, 4, 3],\n",
       "         [8, 2, 5]]])"
      ]
     },
     "execution_count": 20,
     "metadata": {},
     "output_type": "execute_result"
    }
   ],
   "source": [
    "torch.transpose(m5, 1, 2)"
   ]
  },
  {
   "cell_type": "markdown",
   "metadata": {},
   "source": [
    "### City hop problem"
   ]
  },
  {
   "cell_type": "markdown",
   "metadata": {},
   "source": [
    "Find the number of cities that you can go in 3 hops"
   ]
  },
  {
   "cell_type": "code",
   "execution_count": 21,
   "metadata": {},
   "outputs": [],
   "source": [
    "adjacency_matrix = torch.Tensor([[0,0,1,0,1,0],\n",
    "                                 [0,0,1,1,1,0],\n",
    "                                 [1,1,0,1,1,0],\n",
    "                                 [0,1,1,0,1,1],\n",
    "                                 [1,1,1,1,0,0],\n",
    "                                 [0,0,0,1,0,0]])"
   ]
  },
  {
   "cell_type": "code",
   "execution_count": null,
   "metadata": {},
   "outputs": [],
   "source": []
  },
  {
   "cell_type": "markdown",
   "metadata": {},
   "source": [
    "### Creating modules"
   ]
  },
  {
   "cell_type": "markdown",
   "metadata": {},
   "source": [
    "Create a linear layer module and check forward pass"
   ]
  },
  {
   "cell_type": "code",
   "execution_count": 53,
   "metadata": {},
   "outputs": [],
   "source": [
    "import torch.nn as nn # frem here you can get layers\n",
    "from torch.nn import functional as F # from here you can get (activation) functions"
   ]
  },
  {
   "cell_type": "code",
   "execution_count": 59,
   "metadata": {},
   "outputs": [],
   "source": [
    "class MyLinearNN(nn.Module):\n",
    "    def __init__(self, input_size):\n",
    "        super(MyLinearNN, self).__init__()\n",
    "        # define the layers here\n",
    "        self.layer_1 = nn.Linear(input_size, 4)\n",
    "        self.layer_2 = nn.Linear(4, 3)\n",
    "        self.layer_3 = nn.Linear(3, 1)\n",
    "        \n",
    "    def forward(self, x):\n",
    "        # apply functions here\n",
    "        # execute the chain of layers and functions\n",
    "        x = torch.sigmoid(self.layer_1(x)) # (I got a warning that F.sigmoid is deprecated)\n",
    "        x = F.tanh(self.layer_2(x))\n",
    "        x = F.relu(self.layer_3(x))\n",
    "        return x"
   ]
  },
  {
   "cell_type": "markdown",
   "metadata": {},
   "source": [
    "Make Dummy data again: 3 \"batches\" of 10 samples each where each sample has an input size of 20.\n",
    "So one sample is 20 random numbers."
   ]
  },
  {
   "cell_type": "code",
   "execution_count": 60,
   "metadata": {},
   "outputs": [],
   "source": [
    "inputembeddings = torch.randn(3,10,20) # dummy data, like above"
   ]
  },
  {
   "cell_type": "code",
   "execution_count": 61,
   "metadata": {},
   "outputs": [
    {
     "name": "stdout",
     "output_type": "stream",
     "text": [
      "tensor([0.1610], grad_fn=<ReluBackward0>)\n",
      "tensor([0.2727], grad_fn=<ReluBackward0>)\n",
      "tensor([0.0846], grad_fn=<ReluBackward0>)\n",
      "tensor([0.0309], grad_fn=<ReluBackward0>)\n",
      "tensor([0.1060], grad_fn=<ReluBackward0>)\n",
      "tensor([0.1912], grad_fn=<ReluBackward0>)\n",
      "tensor([0.2384], grad_fn=<ReluBackward0>)\n",
      "tensor([0.2308], grad_fn=<ReluBackward0>)\n",
      "tensor([0.], grad_fn=<ReluBackward0>)\n",
      "tensor([0.2163], grad_fn=<ReluBackward0>)\n"
     ]
    }
   ],
   "source": [
    "my_net = MyLinearNN(20) # input size is 20\n",
    "for x in inputembeddings[0]: # this is the first of three batches\n",
    "    y = my_net.forward(x)\n",
    "    print(y)"
   ]
  },
  {
   "cell_type": "code",
   "execution_count": null,
   "metadata": {},
   "outputs": [],
   "source": []
  }
 ],
 "metadata": {
  "kernelspec": {
   "display_name": "Python 3",
   "language": "python",
   "name": "python3"
  },
  "language_info": {
   "codemirror_mode": {
    "name": "ipython",
    "version": 3
   },
   "file_extension": ".py",
   "mimetype": "text/x-python",
   "name": "python",
   "nbconvert_exporter": "python",
   "pygments_lexer": "ipython3",
   "version": "3.6.3"
  }
 },
 "nbformat": 4,
 "nbformat_minor": 4
}
