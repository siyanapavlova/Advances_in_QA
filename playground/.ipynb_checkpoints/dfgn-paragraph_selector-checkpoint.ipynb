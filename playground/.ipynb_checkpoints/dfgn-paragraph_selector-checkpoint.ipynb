{
 "cells": [
  {
   "cell_type": "markdown",
   "metadata": {},
   "source": [
    "Installations done before\n",
    "    \n",
    "    pip3 install pytorch-pretrained-bert\n",
    "    pip3 install pytorch-nlp"
   ]
  },
  {
   "cell_type": "markdown",
   "metadata": {},
   "source": [
    "### Load first query and paragraphs from HotPotQA"
   ]
  },
  {
   "cell_type": "code",
   "execution_count": 39,
   "metadata": {},
   "outputs": [],
   "source": [
    "import json\n",
    "import os"
   ]
  },
  {
   "cell_type": "code",
   "execution_count": 40,
   "metadata": {},
   "outputs": [],
   "source": [
    "with open(os.path.abspath('../data/hotpot_train_v1.1.json')) as json_file:\n",
    "    hotpot_train = json.load(json_file)"
   ]
  },
  {
   "cell_type": "code",
   "execution_count": 41,
   "metadata": {},
   "outputs": [
    {
     "data": {
      "text/plain": [
       "\"Which magazine was started first Arthur's Magazine or First for Women?\""
      ]
     },
     "execution_count": 41,
     "metadata": {},
     "output_type": "execute_result"
    }
   ],
   "source": [
    "query = hotpot_train[0]['question']\n",
    "paragraphs = hotpot_train[0]['context']\n",
    "query"
   ]
  },
  {
   "cell_type": "code",
   "execution_count": 42,
   "metadata": {},
   "outputs": [
    {
     "data": {
      "text/plain": [
       "['Radio City (Indian radio station)',\n",
       " [\"Radio City is India's first private FM radio station and was started on 3 July 2001.\",\n",
       "  ' It broadcasts on 91.1 (earlier 91.0 in most cities) megahertz from Mumbai (where it was started in 2004), Bengaluru (started first in 2001), Lucknow and New Delhi (since 2003).',\n",
       "  ' It plays Hindi, English and regional songs.',\n",
       "  ' It was launched in Hyderabad in March 2006, in Chennai on 7 July 2006 and in Visakhapatnam October 2007.',\n",
       "  ' Radio City recently forayed into New Media in May 2008 with the launch of a music portal - PlanetRadiocity.com that offers music related news, videos, songs, and other music-related features.',\n",
       "  ' The Radio station currently plays a mix of Hindi and Regional music.',\n",
       "  ' Abraham Thomas is the CEO of the company.']]"
      ]
     },
     "execution_count": 42,
     "metadata": {},
     "output_type": "execute_result"
    }
   ],
   "source": [
    "paragraphs[0]"
   ]
  },
  {
   "cell_type": "markdown",
   "metadata": {},
   "source": [
    "### Using BERT"
   ]
  },
  {
   "cell_type": "code",
   "execution_count": 43,
   "metadata": {},
   "outputs": [],
   "source": [
    "import torch\n",
    "from pytorch_pretrained_bert import BertTokenizer, BertConfig"
   ]
  },
  {
   "cell_type": "code",
   "execution_count": 44,
   "metadata": {},
   "outputs": [],
   "source": [
    "# Load pre-trained model tokenizer (vocabulary)\n",
    "tokenizer = BertTokenizer.from_pretrained('bert-base-uncased')"
   ]
  },
  {
   "cell_type": "code",
   "execution_count": 45,
   "metadata": {},
   "outputs": [],
   "source": [
    "# Tokenized input\n",
    "text = \"[CLS] Who was Jim Henson ? [SEP] Jim Henson was a puppeteer [SEP]\"\n",
    "tokenized_text = tokenizer.tokenize(text)"
   ]
  },
  {
   "cell_type": "code",
   "execution_count": 46,
   "metadata": {},
   "outputs": [
    {
     "data": {
      "text/plain": [
       "\"[CLS] Radio City is India's first private FM radio station and was started on 3 July 2001. [SEP] It broadcasts on 91.1 (earlier 91.0 in most cities) megahertz from Mumbai (where it was started in 2004), Bengaluru (started first in 2001), Lucknow and New Delhi (since 2003). [SEP] It plays Hindi, English and regional songs. [SEP] It was launched in Hyderabad in March 2006, in Chennai on 7 July 2006 and in Visakhapatnam October 2007. [SEP] Radio City recently forayed into New Media in May 2008 with the launch of a music portal - PlanetRadiocity.com that offers music related news, videos, songs, and other music-related features. [SEP] The Radio station currently plays a mix of Hindi and Regional music. [SEP] Abraham Thomas is the CEO of the company. [SEP]\""
      ]
     },
     "execution_count": 46,
     "metadata": {},
     "output_type": "execute_result"
    }
   ],
   "source": [
    "# add [CLS] and [SEP] to paragraph and join sentences for each paragraph together\n",
    "test_paragraph = \"[CLS] \" + (\" [SEP]\").join(paragraphs[0][1]) + \" [SEP]\"\n",
    "test_paragraph"
   ]
  },
  {
   "cell_type": "code",
   "execution_count": 55,
   "metadata": {},
   "outputs": [
    {
     "data": {
      "text/plain": [
       "['[CLS]', 'radio', 'city', 'is', 'india', \"'\", 's', 'first', 'private', 'fm']"
      ]
     },
     "execution_count": 55,
     "metadata": {},
     "output_type": "execute_result"
    }
   ],
   "source": [
    "tokenized_paragraph = tokenizer.tokenize(test_paragraph)\n",
    "tokenized_paragraph[:10]"
   ]
  },
  {
   "cell_type": "code",
   "execution_count": 48,
   "metadata": {},
   "outputs": [
    {
     "data": {
      "text/plain": [
       "['[CLS]',\n",
       " 'who',\n",
       " 'was',\n",
       " 'jim',\n",
       " 'henson',\n",
       " '?',\n",
       " '[SEP]',\n",
       " 'jim',\n",
       " 'henson',\n",
       " 'was',\n",
       " 'a',\n",
       " 'puppet',\n",
       " '##eer',\n",
       " '[SEP]']"
      ]
     },
     "execution_count": 48,
     "metadata": {},
     "output_type": "execute_result"
    }
   ],
   "source": [
    "tokenized_text"
   ]
  },
  {
   "cell_type": "markdown",
   "metadata": {},
   "source": [
    "### Paragraph Selector"
   ]
  },
  {
   "cell_type": "code",
   "execution_count": 57,
   "metadata": {},
   "outputs": [],
   "source": [
    "def make_context(paragraphs, supporting_facts, query, treshold=0.1, tokenizer=BertTokenizer.from_pretrained('bert-base-uncased')):\n",
    "    '''Takes a list of paragraphs, a query and a treshold relevance score\n",
    "    and produces a context - a list consisting of all paragraphs whose relevance\n",
    "    score to the query is higher than the treshold\n",
    "    Parameters: paragraphs - a list where the 0th element is the paragraph topic and the 1st one is a list of sentences\n",
    "                supporting_facts - a list of strings\n",
    "                query - a string representing the question (query)\n",
    "                treshold - a treshold relevance score\n",
    "                tokenizer - \n",
    "    Output:     context - a list of relevant paragraphs\n",
    "    '''\n",
    "    # Create labeled data\n",
    "    labels = []\n",
    "    for para in pragraphs:\n",
    "        labels.append(int(para[0] in supporting_facts))\n",
    "    \n",
    "    context = []\n",
    "    for para in paragraphs:\n",
    "        # BERTify paragraph and query (separately)\n",
    "        joined_para = \"[CLS] \" + (\" [SEP]\").join(para[1]) + \" [SEP]\"\n",
    "        tokenized_para = tokenizer.tokenize(joined_para)\n",
    "        \n",
    "        tokenized_query = tokenizer.tokenize(\"[CLS] \" + query + \" [SEP]\")\n",
    "        \n",
    "        \n",
    "        \n",
    "        # Sentence classification layer with sigmoid prediction\n",
    "        \n",
    "        # if score for para is more than r (default of treshold = 0.1), add p to context\n",
    "        if r > treshold:\n",
    "            context.append(para)\n",
    "    return context"
   ]
  },
  {
   "cell_type": "markdown",
   "metadata": {},
   "source": [
    "### Graph Constructor"
   ]
  },
  {
   "cell_type": "code",
   "execution_count": null,
   "metadata": {},
   "outputs": [],
   "source": [
    "def construct_graph(context):\n",
    "    ''' Takes a context as a list of a paragraphs, applies NER and contrsucts\n",
    "    a graph with the following type of links:\n",
    "        - sentence-level links - between pairs of entities in the same sentence\n",
    "        - context-leve links - between different occurences of the same entity\n",
    "        - paragraph-level links - [TODO - describe these]\n",
    "    Parameters: context - a list of strings, each representing a paragraph\n",
    "    Output:     graph - the produced graph [TODO - add more detail here]\n",
    "    '''\n",
    "    # Would need NER but also sentence tokenization\n",
    "    # TODO - think of an appropriate data structure for the graph\n",
    "    for para in context:\n",
    "        # apply NER to para\n",
    "        \n",
    "        # apply sentence tokenization to para\n",
    "        \n",
    "        \n",
    "        pass\n",
    "    return graph"
   ]
  }
 ],
 "metadata": {
  "kernelspec": {
   "display_name": "Python 3",
   "language": "python",
   "name": "python3"
  },
  "language_info": {
   "codemirror_mode": {
    "name": "ipython",
    "version": 3
   },
   "file_extension": ".py",
   "mimetype": "text/x-python",
   "name": "python",
   "nbconvert_exporter": "python",
   "pygments_lexer": "ipython3",
   "version": "3.6.8"
  }
 },
 "nbformat": 4,
 "nbformat_minor": 4
}
